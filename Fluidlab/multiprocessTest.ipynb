{
 "cells": [
  {
   "cell_type": "code",
   "execution_count": 1,
   "metadata": {},
   "outputs": [],
   "source": [
    "# import time\n",
    "# from numpy import linalg as LA\n",
    "# import numpy as np\n",
    "\n",
    "# def basic_func():\n",
    "#     wm = np.zeros((10,10,10),dtype=np.float32)\n",
    "#     for i in range(0,20):\n",
    "#         for j in range(0,10):\n",
    "#             for k in range(0,10):\n",
    "#                 x = np.random.rand(3,3)\n",
    "#                 w = LA.eigvals(x)\n",
    "#                 w = np.sort(-w)\n",
    "# #                 if w[1]<0:\n",
    "# #                     wm[i,j,k] = w[1]\n",
    "#     return wm         \n",
    "    \n",
    "# starttime = time.time()\n",
    "# for i in range(0,500):\n",
    "# #     wmm = np.zeros((10,10,10,500),dtype=np.float32)\n",
    "# #     wmm[:,:,:,i] = basic_func()\n",
    "#     basic_func()\n",
    "    \n",
    "# print('That took {} seconds'.format(time.time() - starttime))"
   ]
  },
  {
   "cell_type": "code",
   "execution_count": 2,
   "metadata": {},
   "outputs": [],
   "source": [
    "# import time\n",
    "# import multiprocessing \n",
    "\n",
    "# def basic_func():\n",
    "#     wm = np.zeros((10,10,10),dtype=np.float32)\n",
    "#     for i in range(0,20):\n",
    "#         for j in range(0,10):\n",
    "#             for k in range(0,10):\n",
    "#                 x = np.random.rand(3,3)\n",
    "#                 w = LA.eigvals(x)\n",
    "#                 w = np.sort(-w)\n",
    "# #                 if w[1]<0:\n",
    "# #                     wm[i,j,k] = w[1]\n",
    "#     return wm \n",
    "# def multiprocessing_func(i):\n",
    "#     basic_func()\n",
    "#     return 1\n",
    "    \n",
    "# if __name__ == '__main__':\n",
    "#     starttime = time.time()\n",
    "#     processes = []\n",
    "#     for i in range(0,500):\n",
    "#         p = multiprocessing.Process(target=multiprocessing_func, args=(i,))\n",
    "#         processes.append(p)\n",
    "#         p.start()\n",
    "        \n",
    "#     for process in processes:\n",
    "#         process.join()\n",
    "        \n",
    "#     print('That took {} seconds'.format(time.time() - starttime))"
   ]
  },
  {
   "cell_type": "code",
   "execution_count": 3,
   "metadata": {},
   "outputs": [],
   "source": [
    "# import time\n",
    "\n",
    "# def basic_func(x):\n",
    "#     if x == 0:\n",
    "#         return 'zero'\n",
    "#     elif x%2 == 0:\n",
    "#         return 'even'\n",
    "#     else:\n",
    "#         return 'odd'\n",
    "    \n",
    "# starttime = time.time()\n",
    "# for i in range(0,10):\n",
    "#     y = i*i\n",
    "#     time.sleep(2)\n",
    "#     print('{} squared results in a/an {} number'.format(i, basic_func(y)))\n",
    "    \n",
    "# print('That took {} seconds'.format(time.time() - starttime))"
   ]
  },
  {
   "cell_type": "code",
   "execution_count": 4,
   "metadata": {},
   "outputs": [],
   "source": [
    "# import time\n",
    "# import multiprocessing \n",
    "\n",
    "# def basic_func(x):\n",
    "#     if x == 0:\n",
    "#         return 'zero'\n",
    "#     elif x%2 == 0:\n",
    "#         return 'even'\n",
    "#     else:\n",
    "#         return 'odd'\n",
    "\n",
    "# def multiprocessing_func(x):\n",
    "#     y = x*x\n",
    "#     time.sleep(2)\n",
    "#     print('{} squared results in a/an {} number'.format(x, basic_func(y)))\n",
    "    \n",
    "# if __name__ == '__main__':\n",
    "#     starttime = time.time()\n",
    "#     processes = []\n",
    "#     for i in range(0,10):\n",
    "#         p = multiprocessing.Process(target=multiprocessing_func, args=(i,))\n",
    "#         processes.append(p)\n",
    "#         p.start()\n",
    "        \n",
    "#     for process in processes:\n",
    "#         process.join()\n",
    "        \n",
    "#     print('That took {} seconds'.format(time.time() - starttime))"
   ]
  },
  {
   "cell_type": "code",
   "execution_count": 5,
   "metadata": {},
   "outputs": [],
   "source": [
    "\n",
    "# import multiprocessing \n",
    "# import multitest\n",
    "    \n",
    "# if __name__ == '__main__':\n",
    "    \n",
    "#     starttime = time.time()\n",
    "#     pool = multiprocessing.Pool()\n",
    "#     pool.map(multitest.multiprocessing_func, range(0,10))\n",
    "#     pool.close()\n",
    "#     print('That took {} seconds'.format(time.time() - starttime))"
   ]
  },
  {
   "cell_type": "code",
   "execution_count": 58,
   "metadata": {},
   "outputs": [],
   "source": [
    "import numpy as np\n",
    "import time\n",
    "import csv\n",
    "import pandas as pd\n",
    "import time"
   ]
  },
  {
   "cell_type": "code",
   "execution_count": 60,
   "metadata": {},
   "outputs": [],
   "source": [
    "def lambmatrix(S,Ome,nx,ny,nz):\n",
    "    from numpy import linalg as LA\n",
    "    lamb2 = np.zeros((nx,ny,nz),dtype=np.float32)\n",
    "    for i in range(0,nx):\n",
    "                for j in range(0,ny):\n",
    "                    for k in range(0,nz):\n",
    "                        w = LA.eigvals((S[:,:,i,j,k],Ome[:,:,i,j,k]))\n",
    "                        w = np.sort(-w)\n",
    "#                         if w[1]<0:\n",
    "#                             lamb2[i,j,k] = w[1]\n",
    "    return lamb2                     "
   ]
  },
  {
   "cell_type": "code",
   "execution_count": 24,
   "metadata": {},
   "outputs": [],
   "source": [
    "def lambda2(dx=40,dy=40,dz=10,dt=10):\n",
    "    nx=45\n",
    "    ny=45\n",
    "    nz=100\n",
    "    nt=3\n",
    "    import multitest\n",
    "    lamb2 = np.zeros((nx,ny,nz,nt),dtype=np.float32)\n",
    "    S = np.random.rand(3,3,nx,ny,nz)\n",
    "    Ome = np.random.rand(3,3,nx,ny,nz)\n",
    "    for t in range(0,nt):\n",
    "        lamb2[:,:,:,t] = multitest.lambmatrix(S,Ome,nx,ny,nz)\n",
    "    print(lamb2.shape)\n",
    "    return lamb2"
   ]
  },
  {
   "cell_type": "code",
   "execution_count": 9,
   "metadata": {},
   "outputs": [],
   "source": [
    "def lambda2p(dx=40,dy=40,dz=10,dt=10):\n",
    "    nx=45\n",
    "    ny=45\n",
    "    nz=100\n",
    "    nt=3\n",
    "    \n",
    "    \n",
    "    import multiprocessing \n",
    "    import multitest\n",
    "    if __name__ == '__main__':\n",
    "        lamb2 = np.zeros((nx,ny,nz,nt),dtype=np.float32)\n",
    "        S = np.random.rand(3,3,nx,ny,nz)\n",
    "        Ome = np.random.rand(3,3,nx,ny,nz)\n",
    "        processes = []\n",
    "        for i in range(0,nt):\n",
    "            p = multiprocessing.Process(target=multitest.lambmatrix, args=(S,Ome,nx,ny,nz))\n",
    "            processes.append(p)\n",
    "            p.start()\n",
    "        \n",
    "        for process in processes:\n",
    "            process.join()\n",
    "        return lamb2"
   ]
  },
  {
   "cell_type": "code",
   "execution_count": 56,
   "metadata": {},
   "outputs": [],
   "source": [
    "def lambda2m(dx=40,dy=40,dz=10,dt=10):\n",
    "    nx=45\n",
    "    ny=45\n",
    "    nz=100\n",
    "    nt=3\n",
    "    \n",
    "    \n",
    "    import multiprocessing \n",
    "    import multitest\n",
    "    if __name__ == '__main__':\n",
    "        lamb2 = np.zeros((nx,ny,nz,nt),dtype=np.float32)\n",
    "#         S = np.random.rand(3,3,nx,ny,nz)\n",
    "#         Ome = np.random.rand(3,3,nx,ny,nz)\n",
    "        \n",
    "        pool = multiprocessing.Pool()\n",
    "#         results = [pool.apply(multitest.lambmatrix,args=(S,Ome,nx,ny,nz))]\n",
    "        result = pool.starmap(multitest.lambmatrix,[(t,nx,ny,nz) for t in range(nt)])\n",
    "        print (result[1].shape)\n",
    "        pool.close()\n",
    "        return lamb2"
   ]
  },
  {
   "cell_type": "code",
   "execution_count": 57,
   "metadata": {},
   "outputs": [
    {
     "name": "stdout",
     "output_type": "stream",
     "text": [
      "(45, 45, 100)\n",
      "That took 7.011347770690918 seconds\n"
     ]
    }
   ],
   "source": [
    "starttime = time.time()\n",
    "lambda2m()\n",
    "print('That took {} seconds'.format(time.time() - starttime))"
   ]
  },
  {
   "cell_type": "code",
   "execution_count": 25,
   "metadata": {},
   "outputs": [
    {
     "name": "stdout",
     "output_type": "stream",
     "text": [
      "(45, 45, 100, 3)\n",
      "That took 20.819180965423584 seconds\n"
     ]
    }
   ],
   "source": [
    "starttime = time.time()\n",
    "lambda2()\n",
    "print('That took {} seconds'.format(time.time() - starttime))"
   ]
  },
  {
   "cell_type": "code",
   "execution_count": 18,
   "metadata": {},
   "outputs": [
    {
     "name": "stdout",
     "output_type": "stream",
     "text": [
      "That took 7.985271692276001 seconds\n"
     ]
    }
   ],
   "source": [
    "starttime = time.time()\n",
    "lambda2p()\n",
    "print('That took {} seconds'.format(time.time() - starttime))"
   ]
  },
  {
   "cell_type": "code",
   "execution_count": null,
   "metadata": {},
   "outputs": [],
   "source": []
  },
  {
   "cell_type": "code",
   "execution_count": null,
   "metadata": {},
   "outputs": [],
   "source": [
    "import multiprocessing \n",
    "import multitest\n",
    "    \n",
    "if __name__ == '__main__':\n",
    "    \n",
    "    starttime = time.time()\n",
    "    pool = multiprocessing.Pool()\n",
    "    pool.map(multitest.multiprocessing_func, range(0,10))\n",
    "    pool.close()\n",
    "    print('That took {} seconds'.format(time.time() - starttime))"
   ]
  }
 ],
 "metadata": {
  "kernelspec": {
   "display_name": "Python 3",
   "language": "python",
   "name": "python3"
  },
  "language_info": {
   "codemirror_mode": {
    "name": "ipython",
    "version": 3
   },
   "file_extension": ".py",
   "mimetype": "text/x-python",
   "name": "python",
   "nbconvert_exporter": "python",
   "pygments_lexer": "ipython3",
   "version": "3.7.6"
  }
 },
 "nbformat": 4,
 "nbformat_minor": 4
}
