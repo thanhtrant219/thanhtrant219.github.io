{
 "cells": [
  {
   "cell_type": "code",
   "execution_count": 1,
   "metadata": {},
   "outputs": [],
   "source": [
    "import numpy as np\n",
    "import csv\n",
    "import pandas as pd\n",
    "import time \n",
    "import fluidlab as fl"
   ]
  },
  {
   "cell_type": "code",
   "execution_count": null,
   "metadata": {},
   "outputs": [],
   "source": [
    "Start = 0 # numer of rows in dataset\n",
    "End = 500 # time start\n",
    "\n",
    "sk = Start*45*45*700\n",
    "nr = End - Start\n",
    "n = 45*45*700*nr\n",
    "\n",
    "#INPUT the path of the file\n",
    "dft = pd.read_csv(\"C:/Users/Sound of Silence/Desktop/Helium_FLUX_1/He_h01_01_T.csv\",skiprows = sk,nrows = n, dtype =np.float32)\n",
    "datat = dft.to_numpy()\n",
    "del dft\n",
    "dfu = pd.read_csv(\"C:/Users/Sound of Silence/Desktop/Helium_FLUX_1/He_h01_01_U.csv\",skiprows = sk,nrows = n, dtype =np.float32)\n",
    "datau = dfu.to_numpy()\n",
    "del dfu\n",
    "dfv = pd.read_csv(r'C:\\Users\\Sound of Silence\\Desktop\\Helium_FLUX_1\\He_h01_01_V.csv',skiprows = sk,nrows = n, dtype =np.float32)\n",
    "datav = dfv.to_numpy()\n",
    "del dfv\n",
    "dfw = pd.read_csv(r'C:\\Users\\Sound of Silence\\Desktop\\Helium_FLUX_1\\He_h01_01_W.csv',skiprows = sk,nrows = n, dtype =np.float32)\n",
    "dataw = dfw.to_numpy()\n",
    "del dfw\n",
    "#'/Volumes/ThanhPor/Helium_FLUX_1/He_h01_01_W.csv'\n",
    "\n",
    "#Shaping data into actural shape (45*45*700)\n",
    "datat = np.reshape(datat, (45,45,700,nr), order=\"F\")\n",
    "datau = np.reshape(datau, (45,45,700,nr), order=\"F\")\n",
    "datav = np.reshape(datav, (45,45,700,nr), order=\"F\")\n",
    "dataw = np.reshape(dataw, (45,45,700,nr), order=\"F\")"
   ]
  },
  {
   "cell_type": "code",
   "execution_count": 3,
   "metadata": {},
   "outputs": [
    {
     "name": "stdout",
     "output_type": "stream",
     "text": [
      "Time: 129.1136 minutes\n"
     ]
    }
   ],
   "source": [
    "#Calculate Lambda2 \n",
    "#Estimated time: 2h-3h\n",
    "#Input (u,v,w,dx,dy,dz)\n",
    "tic = time.perf_counter()\n",
    "lamb2 = fl.lambda2t(datau,datav,dataw,dx=40,dy=40,dz=10)\n",
    "toc1 = time.perf_counter()\n",
    "print(f\"Time: {((toc1 - tic)/60):0.4f} minutes\")"
   ]
  },
  {
   "cell_type": "code",
   "execution_count": null,
   "metadata": {},
   "outputs": [],
   "source": [
    "#delete in case running out of memeory\n",
    "# del lamb2"
   ]
  },
  {
   "cell_type": "code",
   "execution_count": 7,
   "metadata": {},
   "outputs": [
    {
     "name": "stdout",
     "output_type": "stream",
     "text": [
      "Time: 7.7556 minutes\n"
     ]
    }
   ],
   "source": [
    "#Calculate Omega \n",
    "#Estimated time: 8 minutes\n",
    "#Input (u,v,w,dx,dy,dz)\n",
    "tic = time.perf_counter()\n",
    "ome = fl.omega(datau,datav,dataw,dx=45,dy=45,dz=10)\n",
    "toc1 = time.perf_counter()\n",
    "print(f\"Time: {((toc1 - tic)/60):0.4f} minutes\")\n",
    "#468"
   ]
  },
  {
   "cell_type": "code",
   "execution_count": 2,
   "metadata": {},
   "outputs": [],
   "source": [
    "#delete in case running out of memeory\n",
    "# del ome"
   ]
  },
  {
   "cell_type": "code",
   "execution_count": 7,
   "metadata": {},
   "outputs": [
    {
     "ename": "ModuleNotFoundError",
     "evalue": "No module named 'Image'",
     "output_type": "error",
     "traceback": [
      "\u001b[1;31m---------------------------------------------------------------------------\u001b[0m",
      "\u001b[1;31mModuleNotFoundError\u001b[0m                       Traceback (most recent call last)",
      "\u001b[1;32m<ipython-input-7-4261ae9a35f1>\u001b[0m in \u001b[0;36m<module>\u001b[1;34m\u001b[0m\n\u001b[0;32m      5\u001b[0m \u001b[0mthreshold\u001b[0m \u001b[1;33m=\u001b[0m \u001b[1;36m1\u001b[0m\u001b[1;33m/\u001b[0m\u001b[0mnp\u001b[0m\u001b[1;33m.\u001b[0m\u001b[0mexp\u001b[0m\u001b[1;33m(\u001b[0m\u001b[1;36m1\u001b[0m\u001b[1;33m)\u001b[0m\u001b[1;33m\u001b[0m\u001b[1;33m\u001b[0m\u001b[0m\n\u001b[0;32m      6\u001b[0m \u001b[0mname\u001b[0m \u001b[1;33m=\u001b[0m \u001b[1;34m\"Helium\"\u001b[0m\u001b[1;33m\u001b[0m\u001b[1;33m\u001b[0m\u001b[0m\n\u001b[1;32m----> 7\u001b[1;33m \u001b[0mfl\u001b[0m\u001b[1;33m.\u001b[0m\u001b[0mplumehalfgraph\u001b[0m\u001b[1;33m(\u001b[0m\u001b[0mdataw\u001b[0m\u001b[1;33m,\u001b[0m\u001b[0mdatat\u001b[0m\u001b[1;33m,\u001b[0m\u001b[0mthreshold\u001b[0m\u001b[1;33m,\u001b[0m\u001b[1;36m40\u001b[0m\u001b[1;33m,\u001b[0m\u001b[1;36m40\u001b[0m\u001b[1;33m,\u001b[0m\u001b[1;36m10\u001b[0m\u001b[1;33m,\u001b[0m\u001b[1;36m400\u001b[0m\u001b[1;33m,\u001b[0m\u001b[0mname\u001b[0m\u001b[1;33m)\u001b[0m\u001b[1;33m\u001b[0m\u001b[1;33m\u001b[0m\u001b[0m\n\u001b[0m\u001b[0;32m      8\u001b[0m \u001b[1;33m\u001b[0m\u001b[0m\n\u001b[0;32m      9\u001b[0m \u001b[0mtoc1\u001b[0m \u001b[1;33m=\u001b[0m \u001b[0mtime\u001b[0m\u001b[1;33m.\u001b[0m\u001b[0mperf_counter\u001b[0m\u001b[1;33m(\u001b[0m\u001b[1;33m)\u001b[0m\u001b[1;33m\u001b[0m\u001b[1;33m\u001b[0m\u001b[0m\n",
      "\u001b[1;32m~\\iCloudDrive\\AAlab\\Fluidlab\\fluidlab.py\u001b[0m in \u001b[0;36mplumehalfgraph\u001b[1;34m(dataw, datat, threshold, dx, dy, dz, D, name)\u001b[0m\n\u001b[0;32m    230\u001b[0m \u001b[1;32mdef\u001b[0m \u001b[0mplumehalfgraph\u001b[0m\u001b[1;33m(\u001b[0m\u001b[0mdataw\u001b[0m\u001b[1;33m,\u001b[0m\u001b[0mdatat\u001b[0m\u001b[1;33m,\u001b[0m\u001b[0mthreshold\u001b[0m\u001b[1;33m,\u001b[0m\u001b[0mdx\u001b[0m\u001b[1;33m,\u001b[0m\u001b[0mdy\u001b[0m\u001b[1;33m,\u001b[0m\u001b[0mdz\u001b[0m\u001b[1;33m,\u001b[0m\u001b[0mD\u001b[0m\u001b[1;33m,\u001b[0m\u001b[0mname\u001b[0m\u001b[1;33m)\u001b[0m\u001b[1;33m:\u001b[0m\u001b[1;33m\u001b[0m\u001b[1;33m\u001b[0m\u001b[0m\n\u001b[0;32m    231\u001b[0m     \u001b[1;32mimport\u001b[0m \u001b[0mmatplotlib\u001b[0m\u001b[1;33m.\u001b[0m\u001b[0mpyplot\u001b[0m \u001b[1;32mas\u001b[0m \u001b[0mplt\u001b[0m\u001b[1;33m\u001b[0m\u001b[1;33m\u001b[0m\u001b[0m\n\u001b[1;32m--> 232\u001b[1;33m     \u001b[1;32mif\u001b[0m \u001b[1;33m(\u001b[0m\u001b[0msameshape2\u001b[0m\u001b[1;33m(\u001b[0m\u001b[0mdataw\u001b[0m\u001b[1;33m,\u001b[0m\u001b[0mdatat\u001b[0m\u001b[1;33m)\u001b[0m \u001b[1;32mis\u001b[0m \u001b[1;32mFalse\u001b[0m\u001b[1;33m)\u001b[0m\u001b[1;33m:\u001b[0m\u001b[1;33m\u001b[0m\u001b[1;33m\u001b[0m\u001b[0m\n\u001b[0m\u001b[0;32m    233\u001b[0m         \u001b[1;32mreturn\u001b[0m\u001b[1;33m\u001b[0m\u001b[1;33m\u001b[0m\u001b[0m\n\u001b[0;32m    234\u001b[0m     \u001b[0mnx\u001b[0m\u001b[1;33m,\u001b[0m\u001b[0mny\u001b[0m\u001b[1;33m,\u001b[0m\u001b[0mnz\u001b[0m\u001b[1;33m,\u001b[0m\u001b[0mnt\u001b[0m \u001b[1;33m=\u001b[0m \u001b[0mshape\u001b[0m\u001b[1;33m(\u001b[0m\u001b[0mdatat\u001b[0m\u001b[1;33m)\u001b[0m\u001b[1;33m\u001b[0m\u001b[1;33m\u001b[0m\u001b[0m\n",
      "\u001b[1;31mModuleNotFoundError\u001b[0m: No module named 'Image'"
     ]
    }
   ],
   "source": [
    "#Plumehalf graph\n",
    "#Estimated time: ~1 minutes\n",
    "#Input (u,v,w,threshold,dx,dy,dz,D,graphname)\n",
    "tic = time.perf_counter()\n",
    "threshold = 1/np.exp(1)\n",
    "name = \"Helium\"\n",
    "fl.plumehalfgraph(dataw,datat,threshold,40,40,10,400,name)\n",
    "\n",
    "toc1 = time.perf_counter()\n",
    "print(f\"Eigen: {toc1 - tic:0.4f} seconds\") "
   ]
  },
  {
   "cell_type": "code",
   "execution_count": null,
   "metadata": {},
   "outputs": [],
   "source": [
    "#Top_view_graph\n",
    "#Estimated time: ~1 minutes\n",
    "#Input (data(w or t),type_data,file_namedx,dx,dy,dz,D,frame) * more frame will take longer\n",
    "tic = time.perf_counter()\n",
    "fl.topviewmap(dataw,datatype = \"W/Wc\",filename = \"filename\",dx=45,dy=45,dz=10,D=400,frame=20)\n",
    "toc1 = time.perf_counter()\n",
    "print(f\"Eigen: {toc1 - tic:0.4f} seconds\") \n"
   ]
  },
  {
   "cell_type": "code",
   "execution_count": 8,
   "metadata": {},
   "outputs": [
    {
     "name": "stdout",
     "output_type": "stream",
     "text": [
      "Time: 54.5153 seconds\n"
     ]
    }
   ],
   "source": [
    "#Converting Cartesian to Polar\n",
    "#Estimated time: 1 mins\n",
    "#Input (u,v,w,dx,dy,dz)\n",
    "tic = time.perf_counter()\n",
    "Ur,Utheta,Uw = fl.cart2pol(datau,datav,dataw,dx=40,dy=40,dz=10)\n",
    "toc1 = time.perf_counter()\n",
    "print(f\"Time: {toc1 - tic:0.4f} seconds\")"
   ]
  },
  {
   "cell_type": "code",
   "execution_count": 10,
   "metadata": {},
   "outputs": [],
   "source": [
    "# del Ur,Utheta,Uw"
   ]
  },
  {
   "cell_type": "code",
   "execution_count": 6,
   "metadata": {},
   "outputs": [
    {
     "data": {
      "image/png": "[encoded data removed]",
      "text/plain": [
       "<Figure size 432x288 with 1 Axes>"
      ]
     },
     "metadata": {
      "needs_background": "light"
     },
     "output_type": "display_data"
    }
   ],
   "source": [
    "import matplotlib.pyplot as plt\n",
    "\n",
    "plt.plot([1, 2])\n",
    "plt.savefig('image.jpg')"
   ]
  },
  {
   "cell_type": "code",
   "execution_count": null,
   "metadata": {},
   "outputs": [],
   "source": []
  }
 ],
 "metadata": {
  "kernelspec": {
   "display_name": "Python 3",
   "language": "python",
   "name": "python3"
  },
  "language_info": {
   "codemirror_mode": {
    "name": "ipython",
    "version": 3
   },
   "file_extension": ".py",
   "mimetype": "text/x-python",
   "name": "python",
   "nbconvert_exporter": "python",
   "pygments_lexer": "ipython3",
   "version": "3.7.6"
  }
 },
 "nbformat": 4,
 "nbformat_minor": 4
}
