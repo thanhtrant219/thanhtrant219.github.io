{
 "cells": [
  {
   "cell_type": "code",
   "execution_count": 24,
   "metadata": {},
   "outputs": [
    {
     "name": "stdout",
     "output_type": "stream",
     "text": [
      "That took 49.75868487358093 seconds\n"
     ]
    }
   ],
   "source": [
    "import time\n",
    "from numpy import linalg as LA\n",
    "import numpy as np\n",
    "\n",
    "def basic_func():\n",
    "    for j in range(0,20):\n",
    "        for j in range(0,20):\n",
    "            for j in range(0,10):\n",
    "                x = np.random.rand(3,3)\n",
    "                w = LA.eigvals(x)\n",
    "    \n",
    "starttime = time.time()\n",
    "for i in range(0,500):\n",
    "    basic_func()\n",
    "    \n",
    "print('That took {} seconds'.format(time.time() - starttime))"
   ]
  },
  {
   "cell_type": "code",
   "execution_count": 25,
   "metadata": {},
   "outputs": [
    {
     "name": "stdout",
     "output_type": "stream",
     "text": [
      "That took 13.749383926391602 seconds\n"
     ]
    }
   ],
   "source": [
    "import time\n",
    "import multiprocessing \n",
    "\n",
    "def basic_func():\n",
    "    for j in range(0,20):\n",
    "        for j in range(0,20):\n",
    "            for j in range(0,10):\n",
    "                x = np.random.rand(3,3)\n",
    "                w = LA.eigvals(x)\n",
    "\n",
    "def multiprocessing_func(i,j):\n",
    "    basic_func()\n",
    "    \n",
    "if __name__ == '__main__':\n",
    "    starttime = time.time()\n",
    "    processes = []\n",
    "    j = i*i\n",
    "    for i in range(0,500):\n",
    "        p = multiprocessing.Process(target=multiprocessing_func, args=(i,j))\n",
    "        processes.append(p)\n",
    "        p.start()\n",
    "        \n",
    "    for process in processes:\n",
    "        process.join()\n",
    "        \n",
    "    print('That took {} seconds'.format(time.time() - starttime))"
   ]
  },
  {
   "cell_type": "code",
   "execution_count": null,
   "metadata": {},
   "outputs": [],
   "source": []
  }
 ],
 "metadata": {
  "kernelspec": {
   "display_name": "Python 3",
   "language": "python",
   "name": "python3"
  },
  "language_info": {
   "codemirror_mode": {
    "name": "ipython",
    "version": 3
   },
   "file_extension": ".py",
   "mimetype": "text/x-python",
   "name": "python",
   "nbconvert_exporter": "python",
   "pygments_lexer": "ipython3",
   "version": "3.7.6"
  }
 },
 "nbformat": 4,
 "nbformat_minor": 4
}
